{
 "cells": [
  {
   "cell_type": "code",
   "execution_count": 1,
   "id": "da820136",
   "metadata": {},
   "outputs": [],
   "source": [
    "# Import Packages\n",
    "import pandas as pd\n",
    "import os\n",
    "\n",
    "# Define the Excel File Variable\n",
    "Excel_WB = 'SupplyChainLogisticsProblems.xlsx'\n",
    "\n",
    "# Create a Data Frame from the Excel File\n",
    "Excel_DF = pd.ExcelFile(Excel_WB)"
   ]
  },
  {
   "cell_type": "code",
   "execution_count": 2,
   "id": "0a03a2ca",
   "metadata": {},
   "outputs": [],
   "source": [
    "# Set Index\n",
    "Temp_Index = 0\n",
    "\n",
    "# Export the Sheets as CSVs\n",
    "for sheet in Excel_DF.sheet_names:\n",
    "    Temp_DF = Excel_DF.parse(Temp_Index, index=False) # The Temporary Holding Place of a Sheet as it Goes Through the Loop\n",
    "    Temp_DF = Temp_DF[Temp_DF.filter(regex='^(?!Unnamed)').columns] # Drop NoName Columns\n",
    "    CSV_File = sheet+'.csv' # Name of CSV File That We Will Export (Same as Sheet Name)\n",
    "    os.chdir('/Users/jibach/Documents/GitHub/LogisticsDataset/CSVs') # Define Path Where I Want CSVs Stored\n",
    "    Temp_DF.to_csv(CSV_File, index=False) # Export the DF to CSV\n",
    "    Temp_Index += 1 # Reset the Index, Adding a '1' Moves Us to the Next Sheet"
   ]
  },
  {
   "cell_type": "code",
   "execution_count": null,
   "id": "80a139d5",
   "metadata": {},
   "outputs": [],
   "source": []
  }
 ],
 "metadata": {
  "kernelspec": {
   "display_name": "Python 3",
   "language": "python",
   "name": "python3"
  },
  "language_info": {
   "codemirror_mode": {
    "name": "ipython",
    "version": 3
   },
   "file_extension": ".py",
   "mimetype": "text/x-python",
   "name": "python",
   "nbconvert_exporter": "python",
   "pygments_lexer": "ipython3",
   "version": "3.8.8"
  }
 },
 "nbformat": 4,
 "nbformat_minor": 5
}
