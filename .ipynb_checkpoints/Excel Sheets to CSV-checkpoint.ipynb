{
 "cells": [
  {
   "cell_type": "code",
   "execution_count": 1,
   "id": "da820136",
   "metadata": {},
   "outputs": [],
   "source": [
    "# Import Packages\n",
    "import pandas as pd\n",
    "import os\n",
    "\n",
    "# Define the Excel File Variable\n",
    "Excel_WB = 'SupplyChainLogisticsProblems.xlsx'\n",
    "\n",
    "# Create a Data Frame from the Excel File\n",
    "Excel_DF = pd.ExcelFile(Excel_WB)"
   ]
  },
  {
   "cell_type": "code",
   "execution_count": 2,
   "id": "a2d11b0b",
   "metadata": {},
   "outputs": [
    {
     "data": {
      "text/plain": [
       "['OrderList',\n",
       " 'FreightRates',\n",
       " 'WhCosts',\n",
       " 'WhCapacities',\n",
       " 'ProductsPerPlant',\n",
       " 'VmiCustomers',\n",
       " 'PlantPorts']"
      ]
     },
     "execution_count": 2,
     "metadata": {},
     "output_type": "execute_result"
    }
   ],
   "source": [
    "# View the Sheet Names\n",
    "Excel_DF.sheet_names"
   ]
  },
  {
   "cell_type": "code",
   "execution_count": 3,
   "id": "0a03a2ca",
   "metadata": {},
   "outputs": [],
   "source": [
    "# Set Index\n",
    "Temp_Index = 0\n",
    "\n",
    "# Export the Sheets as CSVs\n",
    "for sheet in Excel_DF.sheet_names:\n",
    "    Temp_DF = Excel_DF.parse(Temp_Index, index=False) # The Temporary Holding Place of a Sheet as it Goes Through the Loop\n",
    "    Temp_DF = Temp_DF[Temp_DF.filter(regex='^(?!Unnamed)').columns] # Drop NoName Columns\n",
    "    CSV_File = sheet+'.csv' # Name of CSV File That We Will Export (Same as Sheet Name)\n",
    "    os.chdir('/Users/jibach/Documents/GitHub/LogisticsDataset/CSVs') # Define Path Where I Want CSVs Stored\n",
    "    Temp_DF.to_csv(CSV_File, index=False) # Export the DF to CSV\n",
    "    Temp_Index += 1 # Reset the Index, Adding a '1' Moves Us to the Next Sheet"
   ]
  },
  {
   "cell_type": "code",
   "execution_count": 4,
   "id": "6375c833",
   "metadata": {},
   "outputs": [
    {
     "data": {
      "text/plain": [
       "7"
      ]
     },
     "execution_count": 4,
     "metadata": {},
     "output_type": "execute_result"
    }
   ],
   "source": [
    "Temp_Index"
   ]
  },
  {
   "cell_type": "code",
   "execution_count": 5,
   "id": "d774796e",
   "metadata": {},
   "outputs": [
    {
     "data": {
      "text/html": [
       "<div>\n",
       "<style scoped>\n",
       "    .dataframe tbody tr th:only-of-type {\n",
       "        vertical-align: middle;\n",
       "    }\n",
       "\n",
       "    .dataframe tbody tr th {\n",
       "        vertical-align: top;\n",
       "    }\n",
       "\n",
       "    .dataframe thead th {\n",
       "        text-align: right;\n",
       "    }\n",
       "</style>\n",
       "<table border=\"1\" class=\"dataframe\">\n",
       "  <thead>\n",
       "    <tr style=\"text-align: right;\">\n",
       "      <th></th>\n",
       "      <th>Plant_Code</th>\n",
       "      <th>Port</th>\n",
       "    </tr>\n",
       "  </thead>\n",
       "  <tbody>\n",
       "    <tr>\n",
       "      <th>0</th>\n",
       "      <td>PLANT01</td>\n",
       "      <td>PORT01</td>\n",
       "    </tr>\n",
       "    <tr>\n",
       "      <th>1</th>\n",
       "      <td>PLANT01</td>\n",
       "      <td>PORT02</td>\n",
       "    </tr>\n",
       "    <tr>\n",
       "      <th>2</th>\n",
       "      <td>PLANT02</td>\n",
       "      <td>PORT03</td>\n",
       "    </tr>\n",
       "    <tr>\n",
       "      <th>3</th>\n",
       "      <td>PLANT03</td>\n",
       "      <td>PORT04</td>\n",
       "    </tr>\n",
       "    <tr>\n",
       "      <th>4</th>\n",
       "      <td>PLANT04</td>\n",
       "      <td>PORT05</td>\n",
       "    </tr>\n",
       "    <tr>\n",
       "      <th>5</th>\n",
       "      <td>PLANT05</td>\n",
       "      <td>PORT06</td>\n",
       "    </tr>\n",
       "    <tr>\n",
       "      <th>6</th>\n",
       "      <td>PLANT06</td>\n",
       "      <td>PORT06</td>\n",
       "    </tr>\n",
       "    <tr>\n",
       "      <th>7</th>\n",
       "      <td>PLANT07</td>\n",
       "      <td>PORT01</td>\n",
       "    </tr>\n",
       "    <tr>\n",
       "      <th>8</th>\n",
       "      <td>PLANT07</td>\n",
       "      <td>PORT02</td>\n",
       "    </tr>\n",
       "    <tr>\n",
       "      <th>9</th>\n",
       "      <td>PLANT08</td>\n",
       "      <td>PORT04</td>\n",
       "    </tr>\n",
       "    <tr>\n",
       "      <th>10</th>\n",
       "      <td>PLANT09</td>\n",
       "      <td>PORT04</td>\n",
       "    </tr>\n",
       "    <tr>\n",
       "      <th>11</th>\n",
       "      <td>PLANT10</td>\n",
       "      <td>PORT01</td>\n",
       "    </tr>\n",
       "    <tr>\n",
       "      <th>12</th>\n",
       "      <td>PLANT10</td>\n",
       "      <td>PORT02</td>\n",
       "    </tr>\n",
       "    <tr>\n",
       "      <th>13</th>\n",
       "      <td>PLANT11</td>\n",
       "      <td>PORT04</td>\n",
       "    </tr>\n",
       "    <tr>\n",
       "      <th>14</th>\n",
       "      <td>PLANT12</td>\n",
       "      <td>PORT04</td>\n",
       "    </tr>\n",
       "    <tr>\n",
       "      <th>15</th>\n",
       "      <td>PLANT13</td>\n",
       "      <td>PORT04</td>\n",
       "    </tr>\n",
       "    <tr>\n",
       "      <th>16</th>\n",
       "      <td>PLANT14</td>\n",
       "      <td>PORT07</td>\n",
       "    </tr>\n",
       "    <tr>\n",
       "      <th>17</th>\n",
       "      <td>PLANT15</td>\n",
       "      <td>PORT08</td>\n",
       "    </tr>\n",
       "    <tr>\n",
       "      <th>18</th>\n",
       "      <td>PLANT16</td>\n",
       "      <td>PORT09</td>\n",
       "    </tr>\n",
       "    <tr>\n",
       "      <th>19</th>\n",
       "      <td>PLANT17</td>\n",
       "      <td>PORT10</td>\n",
       "    </tr>\n",
       "    <tr>\n",
       "      <th>20</th>\n",
       "      <td>PLANT18</td>\n",
       "      <td>PORT11</td>\n",
       "    </tr>\n",
       "    <tr>\n",
       "      <th>21</th>\n",
       "      <td>PLANT19</td>\n",
       "      <td>PORT04</td>\n",
       "    </tr>\n",
       "  </tbody>\n",
       "</table>\n",
       "</div>"
      ],
      "text/plain": [
       "   Plant_Code    Port\n",
       "0     PLANT01  PORT01\n",
       "1     PLANT01  PORT02\n",
       "2     PLANT02  PORT03\n",
       "3     PLANT03  PORT04\n",
       "4     PLANT04  PORT05\n",
       "5     PLANT05  PORT06\n",
       "6     PLANT06  PORT06\n",
       "7     PLANT07  PORT01\n",
       "8     PLANT07  PORT02\n",
       "9     PLANT08  PORT04\n",
       "10    PLANT09  PORT04\n",
       "11    PLANT10  PORT01\n",
       "12    PLANT10  PORT02\n",
       "13    PLANT11  PORT04\n",
       "14    PLANT12  PORT04\n",
       "15    PLANT13  PORT04\n",
       "16    PLANT14  PORT07\n",
       "17    PLANT15  PORT08\n",
       "18    PLANT16  PORT09\n",
       "19    PLANT17  PORT10\n",
       "20    PLANT18  PORT11\n",
       "21    PLANT19  PORT04"
      ]
     },
     "execution_count": 5,
     "metadata": {},
     "output_type": "execute_result"
    }
   ],
   "source": [
    "Temp_DF"
   ]
  },
  {
   "cell_type": "code",
   "execution_count": 6,
   "id": "9241555a",
   "metadata": {},
   "outputs": [
    {
     "data": {
      "text/plain": [
       "'/Users/jibach/Documents/GitHub/LogisticsDataset/CSVs'"
      ]
     },
     "execution_count": 6,
     "metadata": {},
     "output_type": "execute_result"
    }
   ],
   "source": [
    "os.getcwd()"
   ]
  },
  {
   "cell_type": "code",
   "execution_count": null,
   "id": "80a139d5",
   "metadata": {},
   "outputs": [],
   "source": []
  }
 ],
 "metadata": {
  "kernelspec": {
   "display_name": "Python 3",
   "language": "python",
   "name": "python3"
  },
  "language_info": {
   "codemirror_mode": {
    "name": "ipython",
    "version": 3
   },
   "file_extension": ".py",
   "mimetype": "text/x-python",
   "name": "python",
   "nbconvert_exporter": "python",
   "pygments_lexer": "ipython3",
   "version": "3.8.8"
  }
 },
 "nbformat": 4,
 "nbformat_minor": 5
}
